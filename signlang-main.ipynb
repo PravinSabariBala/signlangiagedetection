{
 "cells": [
  {
   "cell_type": "code",
   "execution_count": 1,
   "id": "1c115f0f",
   "metadata": {
    "_cell_guid": "b1076dfc-b9ad-4769-8c92-a6c4dae69d19",
    "_uuid": "8f2839f25d086af736a60e9eeb907d3b93b6e0e5",
    "execution": {
     "iopub.execute_input": "2023-06-08T17:08:10.459039Z",
     "iopub.status.busy": "2023-06-08T17:08:10.458653Z",
     "iopub.status.idle": "2023-06-08T17:08:15.500506Z",
     "shell.execute_reply": "2023-06-08T17:08:15.498836Z"
    },
    "papermill": {
     "duration": 5.057623,
     "end_time": "2023-06-08T17:08:15.503357",
     "exception": false,
     "start_time": "2023-06-08T17:08:10.445734",
     "status": "completed"
    },
    "tags": []
   },
   "outputs": [],
   "source": [
    "#importing all necessary libraries\n",
    "import pandas as pd\n",
    "import numpy as np\n",
    "import pyarrow.parquet as pq\n",
    "import matplotlib.pyplot as plt\n",
    "import seaborn as sns\n",
    "\n",
    "#for progress\n",
    "import os\n",
    "import json\n",
    "from tqdm import tqdm\n",
    "\n",
    "#pytorch library imports\n",
    "import torch\n",
    "import torch.nn as nn\n",
    "from torch.utils.data import Dataset, DataLoader\n",
    "from torch.nn.utils.rnn import pack_sequence\n",
    "\n",
    "#for training\n",
    "from sklearn.model_selection import train_test_split\n",
    "from sklearn.metrics import accuracy_score\n",
    "\n",
    "#ignore warnings\n",
    "import warnings\n",
    "warnings.filterwarnings(action='ignore')\n",
    "\n",
    "import time"
   ]
  },
  {
   "cell_type": "code",
   "execution_count": 2,
   "id": "a9b219f1",
   "metadata": {
    "execution": {
     "iopub.execute_input": "2023-06-08T17:08:15.525455Z",
     "iopub.status.busy": "2023-06-08T17:08:15.524847Z",
     "iopub.status.idle": "2023-06-08T17:08:15.719368Z",
     "shell.execute_reply": "2023-06-08T17:08:15.718097Z"
    },
    "papermill": {
     "duration": 0.208171,
     "end_time": "2023-06-08T17:08:15.721979",
     "exception": false,
     "start_time": "2023-06-08T17:08:15.513808",
     "status": "completed"
    },
    "tags": []
   },
   "outputs": [],
   "source": [
    "#base file for the asl signs data\n",
    "BASE_DIR = '../input/asl-signs/'\n",
    "train = pd.read_csv(f'{BASE_DIR}/train.csv')\n",
    "label_map = json.load(open(\"/kaggle/input/asl-signs/sign_to_prediction_index_map.json\", \"r\"))"
   ]
  },
  {
   "cell_type": "code",
   "execution_count": 3,
   "id": "9daf35af",
   "metadata": {
    "execution": {
     "iopub.execute_input": "2023-06-08T17:08:15.742840Z",
     "iopub.status.busy": "2023-06-08T17:08:15.742432Z",
     "iopub.status.idle": "2023-06-08T17:08:15.783089Z",
     "shell.execute_reply": "2023-06-08T17:08:15.782027Z"
    },
    "papermill": {
     "duration": 0.053973,
     "end_time": "2023-06-08T17:08:15.785447",
     "exception": false,
     "start_time": "2023-06-08T17:08:15.731474",
     "status": "completed"
    },
    "tags": []
   },
   "outputs": [
    {
     "data": {
      "text/html": [
       "<div>\n",
       "<style scoped>\n",
       "    .dataframe tbody tr th:only-of-type {\n",
       "        vertical-align: middle;\n",
       "    }\n",
       "\n",
       "    .dataframe tbody tr th {\n",
       "        vertical-align: top;\n",
       "    }\n",
       "\n",
       "    .dataframe thead th {\n",
       "        text-align: right;\n",
       "    }\n",
       "</style>\n",
       "<table border=\"1\" class=\"dataframe\">\n",
       "  <thead>\n",
       "    <tr style=\"text-align: right;\">\n",
       "      <th></th>\n",
       "      <th>path</th>\n",
       "      <th>participant_id</th>\n",
       "      <th>sequence_id</th>\n",
       "      <th>sign</th>\n",
       "    </tr>\n",
       "  </thead>\n",
       "  <tbody>\n",
       "    <tr>\n",
       "      <th>0</th>\n",
       "      <td>train_landmark_files/26734/1000035562.parquet</td>\n",
       "      <td>26734</td>\n",
       "      <td>1000035562</td>\n",
       "      <td>blow</td>\n",
       "    </tr>\n",
       "    <tr>\n",
       "      <th>1</th>\n",
       "      <td>train_landmark_files/28656/1000106739.parquet</td>\n",
       "      <td>28656</td>\n",
       "      <td>1000106739</td>\n",
       "      <td>wait</td>\n",
       "    </tr>\n",
       "    <tr>\n",
       "      <th>2</th>\n",
       "      <td>train_landmark_files/16069/100015657.parquet</td>\n",
       "      <td>16069</td>\n",
       "      <td>100015657</td>\n",
       "      <td>cloud</td>\n",
       "    </tr>\n",
       "    <tr>\n",
       "      <th>3</th>\n",
       "      <td>train_landmark_files/25571/1000210073.parquet</td>\n",
       "      <td>25571</td>\n",
       "      <td>1000210073</td>\n",
       "      <td>bird</td>\n",
       "    </tr>\n",
       "    <tr>\n",
       "      <th>4</th>\n",
       "      <td>train_landmark_files/62590/1000240708.parquet</td>\n",
       "      <td>62590</td>\n",
       "      <td>1000240708</td>\n",
       "      <td>owie</td>\n",
       "    </tr>\n",
       "    <tr>\n",
       "      <th>...</th>\n",
       "      <td>...</td>\n",
       "      <td>...</td>\n",
       "      <td>...</td>\n",
       "      <td>...</td>\n",
       "    </tr>\n",
       "    <tr>\n",
       "      <th>94472</th>\n",
       "      <td>train_landmark_files/53618/999786174.parquet</td>\n",
       "      <td>53618</td>\n",
       "      <td>999786174</td>\n",
       "      <td>white</td>\n",
       "    </tr>\n",
       "    <tr>\n",
       "      <th>94473</th>\n",
       "      <td>train_landmark_files/26734/999799849.parquet</td>\n",
       "      <td>26734</td>\n",
       "      <td>999799849</td>\n",
       "      <td>have</td>\n",
       "    </tr>\n",
       "    <tr>\n",
       "      <th>94474</th>\n",
       "      <td>train_landmark_files/25571/999833418.parquet</td>\n",
       "      <td>25571</td>\n",
       "      <td>999833418</td>\n",
       "      <td>flower</td>\n",
       "    </tr>\n",
       "    <tr>\n",
       "      <th>94475</th>\n",
       "      <td>train_landmark_files/29302/999895257.parquet</td>\n",
       "      <td>29302</td>\n",
       "      <td>999895257</td>\n",
       "      <td>room</td>\n",
       "    </tr>\n",
       "    <tr>\n",
       "      <th>94476</th>\n",
       "      <td>train_landmark_files/36257/999962374.parquet</td>\n",
       "      <td>36257</td>\n",
       "      <td>999962374</td>\n",
       "      <td>happy</td>\n",
       "    </tr>\n",
       "  </tbody>\n",
       "</table>\n",
       "<p>94477 rows × 4 columns</p>\n",
       "</div>"
      ],
      "text/plain": [
       "                                                path  participant_id  \\\n",
       "0      train_landmark_files/26734/1000035562.parquet           26734   \n",
       "1      train_landmark_files/28656/1000106739.parquet           28656   \n",
       "2       train_landmark_files/16069/100015657.parquet           16069   \n",
       "3      train_landmark_files/25571/1000210073.parquet           25571   \n",
       "4      train_landmark_files/62590/1000240708.parquet           62590   \n",
       "...                                              ...             ...   \n",
       "94472   train_landmark_files/53618/999786174.parquet           53618   \n",
       "94473   train_landmark_files/26734/999799849.parquet           26734   \n",
       "94474   train_landmark_files/25571/999833418.parquet           25571   \n",
       "94475   train_landmark_files/29302/999895257.parquet           29302   \n",
       "94476   train_landmark_files/36257/999962374.parquet           36257   \n",
       "\n",
       "       sequence_id    sign  \n",
       "0       1000035562    blow  \n",
       "1       1000106739    wait  \n",
       "2        100015657   cloud  \n",
       "3       1000210073    bird  \n",
       "4       1000240708    owie  \n",
       "...            ...     ...  \n",
       "94472    999786174   white  \n",
       "94473    999799849    have  \n",
       "94474    999833418  flower  \n",
       "94475    999895257    room  \n",
       "94476    999962374   happy  \n",
       "\n",
       "[94477 rows x 4 columns]"
      ]
     },
     "execution_count": 3,
     "metadata": {},
     "output_type": "execute_result"
    }
   ],
   "source": [
    "train"
   ]
  },
  {
   "cell_type": "code",
   "execution_count": 4,
   "id": "f9670951",
   "metadata": {
    "execution": {
     "iopub.execute_input": "2023-06-08T17:08:15.805666Z",
     "iopub.status.busy": "2023-06-08T17:08:15.805268Z",
     "iopub.status.idle": "2023-06-08T17:08:21.281551Z",
     "shell.execute_reply": "2023-06-08T17:08:21.279886Z"
    },
    "papermill": {
     "duration": 5.489279,
     "end_time": "2023-06-08T17:08:21.284153",
     "exception": false,
     "start_time": "2023-06-08T17:08:15.794874",
     "status": "completed"
    },
    "tags": []
   },
   "outputs": [],
   "source": [
    "#processed sign dataset\n",
    "datax=np.load(\"/kaggle/input/processedsign/featuredata.npy\")\n",
    "datay=np.load(\"/kaggle/input/processedsign/featurelabel.npy\")"
   ]
  },
  {
   "cell_type": "code",
   "execution_count": 5,
   "id": "ad4c8fb7",
   "metadata": {
    "execution": {
     "iopub.execute_input": "2023-06-08T17:08:21.304658Z",
     "iopub.status.busy": "2023-06-08T17:08:21.304277Z",
     "iopub.status.idle": "2023-06-08T17:08:21.311074Z",
     "shell.execute_reply": "2023-06-08T17:08:21.310073Z"
    },
    "papermill": {
     "duration": 0.01888,
     "end_time": "2023-06-08T17:08:21.312893",
     "exception": false,
     "start_time": "2023-06-08T17:08:21.294013",
     "status": "completed"
    },
    "tags": []
   },
   "outputs": [
    {
     "data": {
      "text/plain": [
       "(94477, 528)"
      ]
     },
     "execution_count": 5,
     "metadata": {},
     "output_type": "execute_result"
    }
   ],
   "source": [
    "datax.shape"
   ]
  },
  {
   "cell_type": "code",
   "execution_count": 6,
   "id": "64213c9c",
   "metadata": {
    "execution": {
     "iopub.execute_input": "2023-06-08T17:08:21.333355Z",
     "iopub.status.busy": "2023-06-08T17:08:21.333013Z",
     "iopub.status.idle": "2023-06-08T17:08:21.338126Z",
     "shell.execute_reply": "2023-06-08T17:08:21.337023Z"
    },
    "papermill": {
     "duration": 0.01761,
     "end_time": "2023-06-08T17:08:21.340039",
     "exception": false,
     "start_time": "2023-06-08T17:08:21.322429",
     "status": "completed"
    },
    "tags": []
   },
   "outputs": [],
   "source": [
    "#this is very important\n",
    "NUMBER_OF_OBJECTS=10"
   ]
  },
  {
   "cell_type": "code",
   "execution_count": 7,
   "id": "200ebee9",
   "metadata": {
    "execution": {
     "iopub.execute_input": "2023-06-08T17:08:21.360328Z",
     "iopub.status.busy": "2023-06-08T17:08:21.359950Z",
     "iopub.status.idle": "2023-06-08T17:08:21.370630Z",
     "shell.execute_reply": "2023-06-08T17:08:21.369520Z"
    },
    "papermill": {
     "duration": 0.023363,
     "end_time": "2023-06-08T17:08:21.372855",
     "exception": false,
     "start_time": "2023-06-08T17:08:21.349492",
     "status": "completed"
    },
    "tags": []
   },
   "outputs": [],
   "source": [
    "#without data balancing\n",
    "datax=datax[datay<NUMBER_OF_OBJECTS]\n",
    "datay=datay[datay<NUMBER_OF_OBJECTS]"
   ]
  },
  {
   "cell_type": "code",
   "execution_count": 8,
   "id": "c51ff117",
   "metadata": {
    "execution": {
     "iopub.execute_input": "2023-06-08T17:08:21.393619Z",
     "iopub.status.busy": "2023-06-08T17:08:21.393261Z",
     "iopub.status.idle": "2023-06-08T17:08:21.416538Z",
     "shell.execute_reply": "2023-06-08T17:08:21.415431Z"
    },
    "papermill": {
     "duration": 0.035969,
     "end_time": "2023-06-08T17:08:21.418729",
     "exception": false,
     "start_time": "2023-06-08T17:08:21.382760",
     "status": "completed"
    },
    "tags": []
   },
   "outputs": [],
   "source": [
    "#with data balancing\n",
    "indices=np.random.choice(len(datax[datay==0]),300,replace=True)\n",
    "temp=datax[datay==0][indices]\n",
    "temp2=datay[datay==0][indices]\n",
    "for i in range(1,NUMBER_OF_OBJECTS):\n",
    "    indices=np.random.choice(len(datax[datay==i]),300,replace=True)\n",
    "    temp=np.concatenate((temp,datax[datay==i][indices]))\n",
    "    temp2=np.concatenate((temp2,datay[datay==i][indices]))\n",
    "datay=datay[datay<NUMBER_OF_OBJECTS]\n",
    "datax=temp\n",
    "datay=temp2"
   ]
  },
  {
   "cell_type": "code",
   "execution_count": 9,
   "id": "cc4c31e9",
   "metadata": {
    "execution": {
     "iopub.execute_input": "2023-06-08T17:08:21.439847Z",
     "iopub.status.busy": "2023-06-08T17:08:21.439477Z",
     "iopub.status.idle": "2023-06-08T17:08:21.447642Z",
     "shell.execute_reply": "2023-06-08T17:08:21.446706Z"
    },
    "papermill": {
     "duration": 0.021061,
     "end_time": "2023-06-08T17:08:21.449663",
     "exception": false,
     "start_time": "2023-06-08T17:08:21.428602",
     "status": "completed"
    },
    "tags": []
   },
   "outputs": [],
   "source": [
    "trainx,testx,trainy,testy=train_test_split(datax,datay,test_size=0.2,random_state=16)"
   ]
  },
  {
   "cell_type": "code",
   "execution_count": 10,
   "id": "0c5c6472",
   "metadata": {
    "execution": {
     "iopub.execute_input": "2023-06-08T17:08:21.470904Z",
     "iopub.status.busy": "2023-06-08T17:08:21.470523Z",
     "iopub.status.idle": "2023-06-08T17:08:21.489296Z",
     "shell.execute_reply": "2023-06-08T17:08:21.488164Z"
    },
    "papermill": {
     "duration": 0.031306,
     "end_time": "2023-06-08T17:08:21.491133",
     "exception": false,
     "start_time": "2023-06-08T17:08:21.459827",
     "status": "completed"
    },
    "tags": []
   },
   "outputs": [
    {
     "data": {
      "text/html": [
       "<style>#sk-container-id-1 {color: black;background-color: white;}#sk-container-id-1 pre{padding: 0;}#sk-container-id-1 div.sk-toggleable {background-color: white;}#sk-container-id-1 label.sk-toggleable__label {cursor: pointer;display: block;width: 100%;margin-bottom: 0;padding: 0.3em;box-sizing: border-box;text-align: center;}#sk-container-id-1 label.sk-toggleable__label-arrow:before {content: \"▸\";float: left;margin-right: 0.25em;color: #696969;}#sk-container-id-1 label.sk-toggleable__label-arrow:hover:before {color: black;}#sk-container-id-1 div.sk-estimator:hover label.sk-toggleable__label-arrow:before {color: black;}#sk-container-id-1 div.sk-toggleable__content {max-height: 0;max-width: 0;overflow: hidden;text-align: left;background-color: #f0f8ff;}#sk-container-id-1 div.sk-toggleable__content pre {margin: 0.2em;color: black;border-radius: 0.25em;background-color: #f0f8ff;}#sk-container-id-1 input.sk-toggleable__control:checked~div.sk-toggleable__content {max-height: 200px;max-width: 100%;overflow: auto;}#sk-container-id-1 input.sk-toggleable__control:checked~label.sk-toggleable__label-arrow:before {content: \"▾\";}#sk-container-id-1 div.sk-estimator input.sk-toggleable__control:checked~label.sk-toggleable__label {background-color: #d4ebff;}#sk-container-id-1 div.sk-label input.sk-toggleable__control:checked~label.sk-toggleable__label {background-color: #d4ebff;}#sk-container-id-1 input.sk-hidden--visually {border: 0;clip: rect(1px 1px 1px 1px);clip: rect(1px, 1px, 1px, 1px);height: 1px;margin: -1px;overflow: hidden;padding: 0;position: absolute;width: 1px;}#sk-container-id-1 div.sk-estimator {font-family: monospace;background-color: #f0f8ff;border: 1px dotted black;border-radius: 0.25em;box-sizing: border-box;margin-bottom: 0.5em;}#sk-container-id-1 div.sk-estimator:hover {background-color: #d4ebff;}#sk-container-id-1 div.sk-parallel-item::after {content: \"\";width: 100%;border-bottom: 1px solid gray;flex-grow: 1;}#sk-container-id-1 div.sk-label:hover label.sk-toggleable__label {background-color: #d4ebff;}#sk-container-id-1 div.sk-serial::before {content: \"\";position: absolute;border-left: 1px solid gray;box-sizing: border-box;top: 0;bottom: 0;left: 50%;z-index: 0;}#sk-container-id-1 div.sk-serial {display: flex;flex-direction: column;align-items: center;background-color: white;padding-right: 0.2em;padding-left: 0.2em;position: relative;}#sk-container-id-1 div.sk-item {position: relative;z-index: 1;}#sk-container-id-1 div.sk-parallel {display: flex;align-items: stretch;justify-content: center;background-color: white;position: relative;}#sk-container-id-1 div.sk-item::before, #sk-container-id-1 div.sk-parallel-item::before {content: \"\";position: absolute;border-left: 1px solid gray;box-sizing: border-box;top: 0;bottom: 0;left: 50%;z-index: -1;}#sk-container-id-1 div.sk-parallel-item {display: flex;flex-direction: column;z-index: 1;position: relative;background-color: white;}#sk-container-id-1 div.sk-parallel-item:first-child::after {align-self: flex-end;width: 50%;}#sk-container-id-1 div.sk-parallel-item:last-child::after {align-self: flex-start;width: 50%;}#sk-container-id-1 div.sk-parallel-item:only-child::after {width: 0;}#sk-container-id-1 div.sk-dashed-wrapped {border: 1px dashed gray;margin: 0 0.4em 0.5em 0.4em;box-sizing: border-box;padding-bottom: 0.4em;background-color: white;}#sk-container-id-1 div.sk-label label {font-family: monospace;font-weight: bold;display: inline-block;line-height: 1.2em;}#sk-container-id-1 div.sk-label-container {text-align: center;}#sk-container-id-1 div.sk-container {/* jupyter's `normalize.less` sets `[hidden] { display: none; }` but bootstrap.min.css set `[hidden] { display: none !important; }` so we also need the `!important` here to be able to override the default hidden behavior on the sphinx rendered scikit-learn.org. See: https://github.com/scikit-learn/scikit-learn/issues/21755 */display: inline-block !important;position: relative;}#sk-container-id-1 div.sk-text-repr-fallback {display: none;}</style><div id=\"sk-container-id-1\" class=\"sk-top-container\"><div class=\"sk-text-repr-fallback\"><pre>StandardScaler()</pre><b>In a Jupyter environment, please rerun this cell to show the HTML representation or trust the notebook. <br />On GitHub, the HTML representation is unable to render, please try loading this page with nbviewer.org.</b></div><div class=\"sk-container\" hidden><div class=\"sk-item\"><div class=\"sk-estimator sk-toggleable\"><input class=\"sk-toggleable__control sk-hidden--visually\" id=\"sk-estimator-id-1\" type=\"checkbox\" checked><label for=\"sk-estimator-id-1\" class=\"sk-toggleable__label sk-toggleable__label-arrow\">StandardScaler</label><div class=\"sk-toggleable__content\"><pre>StandardScaler()</pre></div></div></div></div></div>"
      ],
      "text/plain": [
       "StandardScaler()"
      ]
     },
     "execution_count": 10,
     "metadata": {},
     "output_type": "execute_result"
    }
   ],
   "source": [
    "from sklearn.preprocessing import StandardScaler\n",
    "scaler=StandardScaler()\n",
    "scaler.fit(trainx)"
   ]
  },
  {
   "cell_type": "code",
   "execution_count": 11,
   "id": "d3fb828a",
   "metadata": {
    "execution": {
     "iopub.execute_input": "2023-06-08T17:08:21.512037Z",
     "iopub.status.busy": "2023-06-08T17:08:21.511687Z",
     "iopub.status.idle": "2023-06-08T17:08:21.521352Z",
     "shell.execute_reply": "2023-06-08T17:08:21.519974Z"
    },
    "papermill": {
     "duration": 0.022986,
     "end_time": "2023-06-08T17:08:21.523880",
     "exception": false,
     "start_time": "2023-06-08T17:08:21.500894",
     "status": "completed"
    },
    "tags": []
   },
   "outputs": [],
   "source": [
    "trainx=scaler.transform(trainx)\n",
    "#scaler.fit(testx)\n",
    "testx=scaler.transform(testx)"
   ]
  },
  {
   "cell_type": "code",
   "execution_count": 12,
   "id": "b38baf31",
   "metadata": {
    "execution": {
     "iopub.execute_input": "2023-06-08T17:08:21.544923Z",
     "iopub.status.busy": "2023-06-08T17:08:21.544561Z",
     "iopub.status.idle": "2023-06-08T17:08:21.551672Z",
     "shell.execute_reply": "2023-06-08T17:08:21.550646Z"
    },
    "papermill": {
     "duration": 0.020544,
     "end_time": "2023-06-08T17:08:21.554110",
     "exception": false,
     "start_time": "2023-06-08T17:08:21.533566",
     "status": "completed"
    },
    "tags": []
   },
   "outputs": [
    {
     "data": {
      "text/plain": [
       "(2400, 528)"
      ]
     },
     "execution_count": 12,
     "metadata": {},
     "output_type": "execute_result"
    }
   ],
   "source": [
    "trainx.shape"
   ]
  },
  {
   "cell_type": "code",
   "execution_count": 13,
   "id": "824ec9f0",
   "metadata": {
    "execution": {
     "iopub.execute_input": "2023-06-08T17:08:21.575766Z",
     "iopub.status.busy": "2023-06-08T17:08:21.575389Z",
     "iopub.status.idle": "2023-06-08T17:08:21.583791Z",
     "shell.execute_reply": "2023-06-08T17:08:21.583018Z"
    },
    "papermill": {
     "duration": 0.022139,
     "end_time": "2023-06-08T17:08:21.586145",
     "exception": false,
     "start_time": "2023-06-08T17:08:21.564006",
     "status": "completed"
    },
    "tags": []
   },
   "outputs": [
    {
     "data": {
      "text/plain": [
       "(2400,)"
      ]
     },
     "execution_count": 13,
     "metadata": {},
     "output_type": "execute_result"
    }
   ],
   "source": [
    "trainy.shape"
   ]
  },
  {
   "cell_type": "code",
   "execution_count": 14,
   "id": "34bf88b5",
   "metadata": {
    "execution": {
     "iopub.execute_input": "2023-06-08T17:08:21.607384Z",
     "iopub.status.busy": "2023-06-08T17:08:21.607007Z",
     "iopub.status.idle": "2023-06-08T17:08:21.614570Z",
     "shell.execute_reply": "2023-06-08T17:08:21.613144Z"
    },
    "papermill": {
     "duration": 0.020194,
     "end_time": "2023-06-08T17:08:21.616398",
     "exception": false,
     "start_time": "2023-06-08T17:08:21.596204",
     "status": "completed"
    },
    "tags": []
   },
   "outputs": [],
   "source": [
    "class ASLData(Dataset):\n",
    "    def __init__(self,datax,datay):\n",
    "        self.datax=datax\n",
    "        self.datay=datay\n",
    "    \n",
    "    def __getitem__(self,index):\n",
    "        return self.datax[index,:],self.datay[index]\n",
    "        \n",
    "    def __len__(self):\n",
    "        return len(self.datay)\n",
    "    \n",
    "class ASLModel(nn.Module):\n",
    "    def __init__(self, p):\n",
    "        super(ASLModel, self).__init__()\n",
    "        self.sequentail=nn.Sequential(\n",
    "        nn.Linear(528, 1024),\n",
    "        nn.LeakyReLU(0.1),\n",
    "        nn.Dropout(p),\n",
    "        nn.Linear(1024,512),\n",
    "        nn.LeakyReLU(0.1),\n",
    "        nn.Linear(512,NUMBER_OF_OBJECTS)\n",
    "        )\n",
    "        \n",
    "    def forward(self, x):\n",
    "        x = self.sequentail(x)\n",
    "        return x\n",
    "    \n",
    "\n"
   ]
  },
  {
   "cell_type": "code",
   "execution_count": 15,
   "id": "ddc3bf1b",
   "metadata": {
    "execution": {
     "iopub.execute_input": "2023-06-08T17:08:21.637144Z",
     "iopub.status.busy": "2023-06-08T17:08:21.636751Z",
     "iopub.status.idle": "2023-06-08T17:08:21.640882Z",
     "shell.execute_reply": "2023-06-08T17:08:21.640022Z"
    },
    "papermill": {
     "duration": 0.016829,
     "end_time": "2023-06-08T17:08:21.642669",
     "exception": false,
     "start_time": "2023-06-08T17:08:21.625840",
     "status": "completed"
    },
    "tags": []
   },
   "outputs": [],
   "source": [
    "#the number of epochs\n",
    "EPOCHS=80\n",
    "#the no of samples per batch\n",
    "BATCH_SIZE=64\n"
   ]
  },
  {
   "cell_type": "code",
   "execution_count": 16,
   "id": "1c8e8d9e",
   "metadata": {
    "execution": {
     "iopub.execute_input": "2023-06-08T17:08:21.664556Z",
     "iopub.status.busy": "2023-06-08T17:08:21.664199Z",
     "iopub.status.idle": "2023-06-08T17:08:21.669519Z",
     "shell.execute_reply": "2023-06-08T17:08:21.668216Z"
    },
    "papermill": {
     "duration": 0.019127,
     "end_time": "2023-06-08T17:08:21.672161",
     "exception": false,
     "start_time": "2023-06-08T17:08:21.653034",
     "status": "completed"
    },
    "tags": []
   },
   "outputs": [],
   "source": [
    "#creating train and test data\n",
    "train_data=ASLData(trainx,trainy)\n",
    "valid_data=ASLData(testx,testy)"
   ]
  },
  {
   "cell_type": "code",
   "execution_count": 17,
   "id": "36b5ce89",
   "metadata": {
    "execution": {
     "iopub.execute_input": "2023-06-08T17:08:21.693886Z",
     "iopub.status.busy": "2023-06-08T17:08:21.693466Z",
     "iopub.status.idle": "2023-06-08T17:08:21.699663Z",
     "shell.execute_reply": "2023-06-08T17:08:21.698305Z"
    },
    "papermill": {
     "duration": 0.019685,
     "end_time": "2023-06-08T17:08:21.702103",
     "exception": false,
     "start_time": "2023-06-08T17:08:21.682418",
     "status": "completed"
    },
    "tags": []
   },
   "outputs": [],
   "source": [
    "#number of workers - praralle cpus\n",
    "train_loader=DataLoader(train_data,batch_size=BATCH_SIZE,num_workers=4,shuffle=True)\n",
    "val_loader=DataLoader(valid_data,batch_size=BATCH_SIZE,num_workers=4,shuffle=True)"
   ]
  },
  {
   "cell_type": "code",
   "execution_count": 18,
   "id": "aceec995",
   "metadata": {
    "execution": {
     "iopub.execute_input": "2023-06-08T17:08:21.723600Z",
     "iopub.status.busy": "2023-06-08T17:08:21.723201Z",
     "iopub.status.idle": "2023-06-08T17:08:21.768027Z",
     "shell.execute_reply": "2023-06-08T17:08:21.767318Z"
    },
    "papermill": {
     "duration": 0.057878,
     "end_time": "2023-06-08T17:08:21.770164",
     "exception": false,
     "start_time": "2023-06-08T17:08:21.712286",
     "status": "completed"
    },
    "tags": []
   },
   "outputs": [],
   "source": [
    "model = ASLModel(0.2)\n",
    "learning_rate = 0.001\n",
    "\n",
    "opt = torch.optim.AdamW(model.parameters(), lr=learning_rate,weight_decay=0.1)\n",
    "#sched = torch.optim.lr_scheduler.ExponentialLR(opt, gamma=0.95)\n",
    "sched = torch.optim.lr_scheduler.StepLR(opt, step_size=10, gamma=0.95)\n",
    "#sched = torch.optim.lr_scheduler.ConstantLR(opt, factor=0.7, total_iters=EPOCHS)\n",
    "\n",
    "#sched = torch.optim.lr_scheduler.CosineAnnealingWarmRestarts(opt, T_0=cycle, eta_min=learning_rate / 10)\n",
    "#opt = torch.optim.Adm(model.parameters(), lr=0.005,weight_decay=0.0001)\n",
    "criterion = nn.CrossEntropyLoss()\n",
    "#sched = torch.optim.lr_scheduler.StepLR(opt, step_size=300, gamma=0.95)"
   ]
  },
  {
   "cell_type": "code",
   "execution_count": 19,
   "id": "4b67d18e",
   "metadata": {
    "execution": {
     "iopub.execute_input": "2023-06-08T17:08:21.791806Z",
     "iopub.status.busy": "2023-06-08T17:08:21.791293Z",
     "iopub.status.idle": "2023-06-08T17:08:21.795809Z",
     "shell.execute_reply": "2023-06-08T17:08:21.795242Z"
    },
    "papermill": {
     "duration": 0.0173,
     "end_time": "2023-06-08T17:08:21.797558",
     "exception": false,
     "start_time": "2023-06-08T17:08:21.780258",
     "status": "completed"
    },
    "tags": []
   },
   "outputs": [],
   "source": [
    "model_parameters = filter(lambda p: p.requires_grad, model.parameters())\n",
    "params = sum([np.prod(p.size()) for p in model_parameters])"
   ]
  },
  {
   "cell_type": "code",
   "execution_count": 20,
   "id": "5f2cda6b",
   "metadata": {
    "execution": {
     "iopub.execute_input": "2023-06-08T17:08:21.818887Z",
     "iopub.status.busy": "2023-06-08T17:08:21.818371Z",
     "iopub.status.idle": "2023-06-08T17:08:21.824460Z",
     "shell.execute_reply": "2023-06-08T17:08:21.823442Z"
    },
    "papermill": {
     "duration": 0.019588,
     "end_time": "2023-06-08T17:08:21.827093",
     "exception": false,
     "start_time": "2023-06-08T17:08:21.807505",
     "status": "completed"
    },
    "tags": []
   },
   "outputs": [
    {
     "data": {
      "text/plain": [
       "1071626"
      ]
     },
     "execution_count": 20,
     "metadata": {},
     "output_type": "execute_result"
    }
   ],
   "source": [
    "params"
   ]
  },
  {
   "cell_type": "code",
   "execution_count": 21,
   "id": "410a744f",
   "metadata": {
    "execution": {
     "iopub.execute_input": "2023-06-08T17:08:21.849048Z",
     "iopub.status.busy": "2023-06-08T17:08:21.848688Z",
     "iopub.status.idle": "2023-06-08T17:08:21.853744Z",
     "shell.execute_reply": "2023-06-08T17:08:21.852157Z"
    },
    "papermill": {
     "duration": 0.01893,
     "end_time": "2023-06-08T17:08:21.856145",
     "exception": false,
     "start_time": "2023-06-08T17:08:21.837215",
     "status": "completed"
    },
    "tags": []
   },
   "outputs": [],
   "source": [
    "train_loss=[]\n",
    "valid_loss=[]\n",
    "train_acc=[]\n",
    "valid_acc=[]"
   ]
  },
  {
   "cell_type": "code",
   "execution_count": 22,
   "id": "fbf95cef",
   "metadata": {
    "execution": {
     "iopub.execute_input": "2023-06-08T17:08:21.880214Z",
     "iopub.status.busy": "2023-06-08T17:08:21.878611Z",
     "iopub.status.idle": "2023-06-08T17:09:13.071174Z",
     "shell.execute_reply": "2023-06-08T17:09:13.069755Z"
    },
    "papermill": {
     "duration": 51.206075,
     "end_time": "2023-06-08T17:09:13.073201",
     "exception": false,
     "start_time": "2023-06-08T17:08:21.867126",
     "status": "completed"
    },
    "tags": []
   },
   "outputs": [
    {
     "name": "stderr",
     "output_type": "stream",
     "text": [
      " 98%|█████████▊| 79/81 [00:51<00:01,  1.54it/s]"
     ]
    },
    {
     "name": "stdout",
     "output_type": "stream",
     "text": [
      "Total runtime of the program is 51.18028712272644\n"
     ]
    },
    {
     "name": "stderr",
     "output_type": "stream",
     "text": [
      "\n"
     ]
    }
   ],
   "source": [
    "begin=time.time()\n",
    "for i,j in zip(range(EPOCHS),tqdm(range(EPOCHS+1))):\n",
    "    model.train()\n",
    "    \n",
    "    train_loss_sum = 0.\n",
    "    train_correct = 0\n",
    "    train_total = 0\n",
    "    train_bar = train_loader\n",
    "    \n",
    "    for x,y in train_bar:\n",
    "        x = torch.Tensor(x).float()\n",
    "        y = torch.Tensor(y).long()\n",
    "\n",
    "        y_pred = model(x)\n",
    "    \n",
    "        loss = criterion(y_pred, y)\n",
    "        \n",
    "\n",
    "\n",
    "        loss.backward()\n",
    "        opt.step()\n",
    "        opt.zero_grad()\n",
    "        \n",
    "        train_loss_sum += loss.item()\n",
    "        train_correct += np.sum((np.argmax(y_pred.detach().cpu().numpy(), axis=1) == y.cpu().numpy()))\n",
    "        train_total += 1\n",
    "        #sched.step()\n",
    "    \n",
    "    val_loss_sum = 0\n",
    "    val_correct = 0\n",
    "    val_total = 0\n",
    "    model.eval()\n",
    "    for x,y in val_loader:\n",
    "        x = torch.Tensor(x).float()\n",
    "        y = torch.Tensor(y).long()\n",
    "        \n",
    "        with torch.no_grad():\n",
    "            y_pred = model(x)\n",
    "            loss = criterion(y_pred, y)\n",
    "            val_loss_sum += loss.item()\n",
    "            val_correct += np.sum((np.argmax(y_pred.cpu().numpy(), axis=1) == y.cpu().numpy()))\n",
    "            val_total += 1\n",
    "        sched.step(val_loss_sum)\n",
    "    train_loss.append(train_loss_sum/train_total)\n",
    "    valid_loss.append(val_loss_sum/val_total)\n",
    "    train_acc.append(train_correct/len(train_data))\n",
    "    valid_acc.append(val_correct/len(valid_data))\n",
    "    #print(f\"Epoch:{i} > Train Loss: {(train_loss_sum/train_total):.04f}, Train Acc: {train_correct/len(train_data):0.04f}\")\n",
    "    #print(f\"Epoch:{i} > Val Loss: {(val_loss_sum/val_total):.04f}, Val Acc: {val_correct/len(valid_data):0.04f}\")\n",
    "    #print(\"=\"*50)\n",
    "    \n",
    "end=time.time()\n",
    "print(f\"Total runtime of the program is {end - begin}\")"
   ]
  },
  {
   "cell_type": "code",
   "execution_count": 23,
   "id": "d9feb047",
   "metadata": {
    "execution": {
     "iopub.execute_input": "2023-06-08T17:09:13.104148Z",
     "iopub.status.busy": "2023-06-08T17:09:13.103801Z",
     "iopub.status.idle": "2023-06-08T17:09:13.391058Z",
     "shell.execute_reply": "2023-06-08T17:09:13.389188Z"
    },
    "papermill": {
     "duration": 0.30535,
     "end_time": "2023-06-08T17:09:13.393134",
     "exception": false,
     "start_time": "2023-06-08T17:09:13.087784",
     "status": "completed"
    },
    "tags": []
   },
   "outputs": [
    {
     "data": {
      "text/plain": [
       "<Axes: >"
      ]
     },
     "execution_count": 23,
     "metadata": {},
     "output_type": "execute_result"
    },
    {
     "data": {
      "image/png": "[encoded data removed]",
      "text/plain": [
       "<Figure size 640x480 with 1 Axes>"
      ]
     },
     "metadata": {},
     "output_type": "display_data"
    }
   ],
   "source": [
    "\n",
    "sns.lineplot(train_loss)\n",
    "sns.lineplot(valid_loss)"
   ]
  },
  {
   "cell_type": "code",
   "execution_count": 24,
   "id": "821392b1",
   "metadata": {
    "execution": {
     "iopub.execute_input": "2023-06-08T17:09:13.425439Z",
     "iopub.status.busy": "2023-06-08T17:09:13.425061Z",
     "iopub.status.idle": "2023-06-08T17:09:13.674440Z",
     "shell.execute_reply": "2023-06-08T17:09:13.673095Z"
    },
    "papermill": {
     "duration": 0.267878,
     "end_time": "2023-06-08T17:09:13.676524",
     "exception": false,
     "start_time": "2023-06-08T17:09:13.408646",
     "status": "completed"
    },
    "tags": []
   },
   "outputs": [
    {
     "data": {
      "text/plain": [
       "<Axes: >"
      ]
     },
     "execution_count": 24,
     "metadata": {},
     "output_type": "execute_result"
    },
    {
     "data": {
      "image/png": "[encoded data removed]",
      "text/plain": [
       "<Figure size 640x480 with 1 Axes>"
      ]
     },
     "metadata": {},
     "output_type": "display_data"
    }
   ],
   "source": [
    "\n",
    "sns.lineplot(train_acc)\n",
    "sns.lineplot(valid_acc)"
   ]
  },
  {
   "cell_type": "code",
   "execution_count": 25,
   "id": "6c0e2b28",
   "metadata": {
    "execution": {
     "iopub.execute_input": "2023-06-08T17:09:13.710709Z",
     "iopub.status.busy": "2023-06-08T17:09:13.710357Z",
     "iopub.status.idle": "2023-06-08T17:09:13.717760Z",
     "shell.execute_reply": "2023-06-08T17:09:13.716684Z"
    },
    "papermill": {
     "duration": 0.026984,
     "end_time": "2023-06-08T17:09:13.719756",
     "exception": false,
     "start_time": "2023-06-08T17:09:13.692772",
     "status": "completed"
    },
    "tags": []
   },
   "outputs": [
    {
     "data": {
      "text/plain": [
       "0.89"
      ]
     },
     "execution_count": 25,
     "metadata": {},
     "output_type": "execute_result"
    }
   ],
   "source": [
    "valid_acc[-1]"
   ]
  },
  {
   "cell_type": "code",
   "execution_count": 26,
   "id": "ff68d6a1",
   "metadata": {
    "execution": {
     "iopub.execute_input": "2023-06-08T17:09:13.753624Z",
     "iopub.status.busy": "2023-06-08T17:09:13.753287Z",
     "iopub.status.idle": "2023-06-08T17:09:13.767947Z",
     "shell.execute_reply": "2023-06-08T17:09:13.766355Z"
    },
    "papermill": {
     "duration": 0.034438,
     "end_time": "2023-06-08T17:09:13.770295",
     "exception": false,
     "start_time": "2023-06-08T17:09:13.735857",
     "status": "completed"
    },
    "tags": []
   },
   "outputs": [
    {
     "data": {
      "text/html": [
       "<div>\n",
       "<style scoped>\n",
       "    .dataframe tbody tr th:only-of-type {\n",
       "        vertical-align: middle;\n",
       "    }\n",
       "\n",
       "    .dataframe tbody tr th {\n",
       "        vertical-align: top;\n",
       "    }\n",
       "\n",
       "    .dataframe thead th {\n",
       "        text-align: right;\n",
       "    }\n",
       "</style>\n",
       "<table border=\"1\" class=\"dataframe\">\n",
       "  <thead>\n",
       "    <tr style=\"text-align: right;\">\n",
       "      <th></th>\n",
       "      <th>path</th>\n",
       "      <th>participant_id</th>\n",
       "      <th>sequence_id</th>\n",
       "      <th>sign</th>\n",
       "    </tr>\n",
       "  </thead>\n",
       "  <tbody>\n",
       "    <tr>\n",
       "      <th>0</th>\n",
       "      <td>train_landmark_files/26734/1000035562.parquet</td>\n",
       "      <td>26734</td>\n",
       "      <td>1000035562</td>\n",
       "      <td>blow</td>\n",
       "    </tr>\n",
       "    <tr>\n",
       "      <th>1</th>\n",
       "      <td>train_landmark_files/28656/1000106739.parquet</td>\n",
       "      <td>28656</td>\n",
       "      <td>1000106739</td>\n",
       "      <td>wait</td>\n",
       "    </tr>\n",
       "    <tr>\n",
       "      <th>2</th>\n",
       "      <td>train_landmark_files/16069/100015657.parquet</td>\n",
       "      <td>16069</td>\n",
       "      <td>100015657</td>\n",
       "      <td>cloud</td>\n",
       "    </tr>\n",
       "    <tr>\n",
       "      <th>3</th>\n",
       "      <td>train_landmark_files/25571/1000210073.parquet</td>\n",
       "      <td>25571</td>\n",
       "      <td>1000210073</td>\n",
       "      <td>bird</td>\n",
       "    </tr>\n",
       "    <tr>\n",
       "      <th>4</th>\n",
       "      <td>train_landmark_files/62590/1000240708.parquet</td>\n",
       "      <td>62590</td>\n",
       "      <td>1000240708</td>\n",
       "      <td>owie</td>\n",
       "    </tr>\n",
       "    <tr>\n",
       "      <th>...</th>\n",
       "      <td>...</td>\n",
       "      <td>...</td>\n",
       "      <td>...</td>\n",
       "      <td>...</td>\n",
       "    </tr>\n",
       "    <tr>\n",
       "      <th>94472</th>\n",
       "      <td>train_landmark_files/53618/999786174.parquet</td>\n",
       "      <td>53618</td>\n",
       "      <td>999786174</td>\n",
       "      <td>white</td>\n",
       "    </tr>\n",
       "    <tr>\n",
       "      <th>94473</th>\n",
       "      <td>train_landmark_files/26734/999799849.parquet</td>\n",
       "      <td>26734</td>\n",
       "      <td>999799849</td>\n",
       "      <td>have</td>\n",
       "    </tr>\n",
       "    <tr>\n",
       "      <th>94474</th>\n",
       "      <td>train_landmark_files/25571/999833418.parquet</td>\n",
       "      <td>25571</td>\n",
       "      <td>999833418</td>\n",
       "      <td>flower</td>\n",
       "    </tr>\n",
       "    <tr>\n",
       "      <th>94475</th>\n",
       "      <td>train_landmark_files/29302/999895257.parquet</td>\n",
       "      <td>29302</td>\n",
       "      <td>999895257</td>\n",
       "      <td>room</td>\n",
       "    </tr>\n",
       "    <tr>\n",
       "      <th>94476</th>\n",
       "      <td>train_landmark_files/36257/999962374.parquet</td>\n",
       "      <td>36257</td>\n",
       "      <td>999962374</td>\n",
       "      <td>happy</td>\n",
       "    </tr>\n",
       "  </tbody>\n",
       "</table>\n",
       "<p>94477 rows × 4 columns</p>\n",
       "</div>"
      ],
      "text/plain": [
       "                                                path  participant_id  \\\n",
       "0      train_landmark_files/26734/1000035562.parquet           26734   \n",
       "1      train_landmark_files/28656/1000106739.parquet           28656   \n",
       "2       train_landmark_files/16069/100015657.parquet           16069   \n",
       "3      train_landmark_files/25571/1000210073.parquet           25571   \n",
       "4      train_landmark_files/62590/1000240708.parquet           62590   \n",
       "...                                              ...             ...   \n",
       "94472   train_landmark_files/53618/999786174.parquet           53618   \n",
       "94473   train_landmark_files/26734/999799849.parquet           26734   \n",
       "94474   train_landmark_files/25571/999833418.parquet           25571   \n",
       "94475   train_landmark_files/29302/999895257.parquet           29302   \n",
       "94476   train_landmark_files/36257/999962374.parquet           36257   \n",
       "\n",
       "       sequence_id    sign  \n",
       "0       1000035562    blow  \n",
       "1       1000106739    wait  \n",
       "2        100015657   cloud  \n",
       "3       1000210073    bird  \n",
       "4       1000240708    owie  \n",
       "...            ...     ...  \n",
       "94472    999786174   white  \n",
       "94473    999799849    have  \n",
       "94474    999833418  flower  \n",
       "94475    999895257    room  \n",
       "94476    999962374   happy  \n",
       "\n",
       "[94477 rows x 4 columns]"
      ]
     },
     "execution_count": 26,
     "metadata": {},
     "output_type": "execute_result"
    }
   ],
   "source": [
    "train"
   ]
  },
  {
   "cell_type": "code",
   "execution_count": 27,
   "id": "85e50a61",
   "metadata": {
    "execution": {
     "iopub.execute_input": "2023-06-08T17:09:13.804655Z",
     "iopub.status.busy": "2023-06-08T17:09:13.804331Z",
     "iopub.status.idle": "2023-06-08T17:09:13.810621Z",
     "shell.execute_reply": "2023-06-08T17:09:13.809054Z"
    },
    "papermill": {
     "duration": 0.027022,
     "end_time": "2023-06-08T17:09:13.813440",
     "exception": false,
     "start_time": "2023-06-08T17:09:13.786418",
     "status": "completed"
    },
    "tags": []
   },
   "outputs": [],
   "source": [
    "objects=[]\n",
    "for i,j in zip(label_map,range(10)):\n",
    "    objects.append(i)\n"
   ]
  },
  {
   "cell_type": "code",
   "execution_count": 28,
   "id": "cc3050d5",
   "metadata": {
    "execution": {
     "iopub.execute_input": "2023-06-08T17:09:13.848089Z",
     "iopub.status.busy": "2023-06-08T17:09:13.847699Z",
     "iopub.status.idle": "2023-06-08T17:09:13.860825Z",
     "shell.execute_reply": "2023-06-08T17:09:13.859332Z"
    },
    "papermill": {
     "duration": 0.033352,
     "end_time": "2023-06-08T17:09:13.863261",
     "exception": false,
     "start_time": "2023-06-08T17:09:13.829909",
     "status": "completed"
    },
    "tags": []
   },
   "outputs": [],
   "source": [
    "valid=train[train['sign'].isin(objects)]"
   ]
  },
  {
   "cell_type": "code",
   "execution_count": 29,
   "id": "7561acd5",
   "metadata": {
    "execution": {
     "iopub.execute_input": "2023-06-08T17:09:13.898363Z",
     "iopub.status.busy": "2023-06-08T17:09:13.897878Z",
     "iopub.status.idle": "2023-06-08T17:09:13.912101Z",
     "shell.execute_reply": "2023-06-08T17:09:13.910527Z"
    },
    "papermill": {
     "duration": 0.034108,
     "end_time": "2023-06-08T17:09:13.914178",
     "exception": false,
     "start_time": "2023-06-08T17:09:13.880070",
     "status": "completed"
    },
    "tags": []
   },
   "outputs": [
    {
     "data": {
      "text/html": [
       "<div>\n",
       "<style scoped>\n",
       "    .dataframe tbody tr th:only-of-type {\n",
       "        vertical-align: middle;\n",
       "    }\n",
       "\n",
       "    .dataframe tbody tr th {\n",
       "        vertical-align: top;\n",
       "    }\n",
       "\n",
       "    .dataframe thead th {\n",
       "        text-align: right;\n",
       "    }\n",
       "</style>\n",
       "<table border=\"1\" class=\"dataframe\">\n",
       "  <thead>\n",
       "    <tr style=\"text-align: right;\">\n",
       "      <th></th>\n",
       "      <th>path</th>\n",
       "      <th>participant_id</th>\n",
       "      <th>sequence_id</th>\n",
       "      <th>sign</th>\n",
       "    </tr>\n",
       "  </thead>\n",
       "  <tbody>\n",
       "    <tr>\n",
       "      <th>11</th>\n",
       "      <td>train_landmark_files/36257/1000536928.parquet</td>\n",
       "      <td>36257</td>\n",
       "      <td>1000536928</td>\n",
       "      <td>apple</td>\n",
       "    </tr>\n",
       "    <tr>\n",
       "      <th>50</th>\n",
       "      <td>train_landmark_files/61333/1002052130.parquet</td>\n",
       "      <td>61333</td>\n",
       "      <td>1002052130</td>\n",
       "      <td>TV</td>\n",
       "    </tr>\n",
       "    <tr>\n",
       "      <th>54</th>\n",
       "      <td>train_landmark_files/16069/1002113535.parquet</td>\n",
       "      <td>16069</td>\n",
       "      <td>1002113535</td>\n",
       "      <td>another</td>\n",
       "    </tr>\n",
       "    <tr>\n",
       "      <th>73</th>\n",
       "      <td>train_landmark_files/62590/1002885072.parquet</td>\n",
       "      <td>62590</td>\n",
       "      <td>1002885072</td>\n",
       "      <td>alligator</td>\n",
       "    </tr>\n",
       "    <tr>\n",
       "      <th>84</th>\n",
       "      <td>train_landmark_files/22343/1003347075.parquet</td>\n",
       "      <td>22343</td>\n",
       "      <td>1003347075</td>\n",
       "      <td>TV</td>\n",
       "    </tr>\n",
       "    <tr>\n",
       "      <th>...</th>\n",
       "      <td>...</td>\n",
       "      <td>...</td>\n",
       "      <td>...</td>\n",
       "      <td>...</td>\n",
       "    </tr>\n",
       "    <tr>\n",
       "      <th>94204</th>\n",
       "      <td>train_landmark_files/25571/988387855.parquet</td>\n",
       "      <td>25571</td>\n",
       "      <td>988387855</td>\n",
       "      <td>alligator</td>\n",
       "    </tr>\n",
       "    <tr>\n",
       "      <th>94212</th>\n",
       "      <td>train_landmark_files/28656/988744760.parquet</td>\n",
       "      <td>28656</td>\n",
       "      <td>988744760</td>\n",
       "      <td>arm</td>\n",
       "    </tr>\n",
       "    <tr>\n",
       "      <th>94235</th>\n",
       "      <td>train_landmark_files/34503/990124677.parquet</td>\n",
       "      <td>34503</td>\n",
       "      <td>990124677</td>\n",
       "      <td>alligator</td>\n",
       "    </tr>\n",
       "    <tr>\n",
       "      <th>94358</th>\n",
       "      <td>train_landmark_files/30680/994981668.parquet</td>\n",
       "      <td>30680</td>\n",
       "      <td>994981668</td>\n",
       "      <td>any</td>\n",
       "    </tr>\n",
       "    <tr>\n",
       "      <th>94430</th>\n",
       "      <td>train_landmark_files/4718/997907172.parquet</td>\n",
       "      <td>4718</td>\n",
       "      <td>997907172</td>\n",
       "      <td>alligator</td>\n",
       "    </tr>\n",
       "  </tbody>\n",
       "</table>\n",
       "<p>3713 rows × 4 columns</p>\n",
       "</div>"
      ],
      "text/plain": [
       "                                                path  participant_id  \\\n",
       "11     train_landmark_files/36257/1000536928.parquet           36257   \n",
       "50     train_landmark_files/61333/1002052130.parquet           61333   \n",
       "54     train_landmark_files/16069/1002113535.parquet           16069   \n",
       "73     train_landmark_files/62590/1002885072.parquet           62590   \n",
       "84     train_landmark_files/22343/1003347075.parquet           22343   \n",
       "...                                              ...             ...   \n",
       "94204   train_landmark_files/25571/988387855.parquet           25571   \n",
       "94212   train_landmark_files/28656/988744760.parquet           28656   \n",
       "94235   train_landmark_files/34503/990124677.parquet           34503   \n",
       "94358   train_landmark_files/30680/994981668.parquet           30680   \n",
       "94430    train_landmark_files/4718/997907172.parquet            4718   \n",
       "\n",
       "       sequence_id       sign  \n",
       "11      1000536928      apple  \n",
       "50      1002052130         TV  \n",
       "54      1002113535    another  \n",
       "73      1002885072  alligator  \n",
       "84      1003347075         TV  \n",
       "...            ...        ...  \n",
       "94204    988387855  alligator  \n",
       "94212    988744760        arm  \n",
       "94235    990124677  alligator  \n",
       "94358    994981668        any  \n",
       "94430    997907172  alligator  \n",
       "\n",
       "[3713 rows x 4 columns]"
      ]
     },
     "execution_count": 29,
     "metadata": {},
     "output_type": "execute_result"
    }
   ],
   "source": [
    "valid"
   ]
  },
  {
   "cell_type": "code",
   "execution_count": 30,
   "id": "dc352f38",
   "metadata": {
    "execution": {
     "iopub.execute_input": "2023-06-08T17:09:13.948604Z",
     "iopub.status.busy": "2023-06-08T17:09:13.948292Z",
     "iopub.status.idle": "2023-06-08T17:09:13.961757Z",
     "shell.execute_reply": "2023-06-08T17:09:13.960016Z"
    },
    "papermill": {
     "duration": 0.033244,
     "end_time": "2023-06-08T17:09:13.963981",
     "exception": false,
     "start_time": "2023-06-08T17:09:13.930737",
     "status": "completed"
    },
    "tags": []
   },
   "outputs": [],
   "source": [
    "#data preprocessing\n",
    "##subclass to pytorch nn model superclass\n",
    "class FeatureGen(nn.Module):\n",
    "    def __init__(self):\n",
    "        super(FeatureGen,self).__init__()\n",
    "        pass\n",
    "    \n",
    "    def forward(self,x):\n",
    "        LANDMARK_IDX = [0,9,11,13,14,17,117,118,119,199,346,347,348]\n",
    "        #extracting different landmarks\n",
    "        face_x=x[:,LANDMARK_IDX,:].contiguous().view(-1,len(LANDMARK_IDX)*3) #-1 - infer from data\n",
    "        lefth_x=x[:,468:489,:].contiguous().view(-1,21*3)\n",
    "        pose_x=x[:,489:522,:].contiguous().view(-1,33*3)\n",
    "        righth_x=x[:,522:,:].contiguous().view(-1,21*3)\n",
    "        '''\n",
    "        print(\"Dimension of face: \",face_x.shape)\n",
    "        print(\"Dimension of lefth: \",lefth_x.shape)\n",
    "        print(\"Dimension of pos: \",pose_x.shape)\n",
    "        print(\"Dimension of right: \",righth_x.shape)\n",
    "        print()\n",
    "        '''\n",
    "        \n",
    "        #removing null values row-wise\n",
    "        lefth_x=lefth_x[~torch.any(torch.isnan(lefth_x),dim=1),:]\n",
    "        righth_x=righth_x[~torch.any(torch.isnan(righth_x),dim=1),:]\n",
    "        '''\n",
    "        print(\"Dimension of face: \",face_x.shape)\n",
    "        print(\"Dimension of lefth: \",lefth_x.shape)\n",
    "        print(\"Dimension of pos: \",pose_x.shape)\n",
    "        print(\"Dimension of right: \",righth_x.shape)\n",
    "        print()\n",
    "       '''\n",
    "        #extracting info about mean and std for landmarks column-wise hence 0\n",
    "        x1m=torch.mean(face_x,axis=0)\n",
    "        x2m=torch.mean(lefth_x,axis=0)\n",
    "        x3m=torch.mean(pose_x,axis=0)\n",
    "        x4m=torch.mean(righth_x,axis=0)\n",
    "        '''\n",
    "        print(\"Dimension of facemean: \",x1m.shape)\n",
    "        print(\"Dimension of lefthmean: \",x2m.shape)\n",
    "        print(\"Dimension of posmean: \",x3m.shape)\n",
    "        print(\"Dimension of rightmean: \",x4m.shape)\n",
    "        print()\n",
    "        '''\n",
    "        x1s=torch.std(face_x,0)\n",
    "        x2s=torch.std(lefth_x,0)\n",
    "        x3s=torch.std(pose_x,0)\n",
    "        x4s=torch.std(righth_x,0)\n",
    "        \n",
    "        '''\n",
    "        print(\"Dimension of facestd: \",x1s.shape)\n",
    "        print(\"Dimension of leftstd: \",x2s.shape)\n",
    "        print(\"Dimension of posstd: \",x3s.shape)\n",
    "        print(\"Dimension of rightstd: \",x4s.shape)\n",
    "        #raise Exception(\"Stop\")\n",
    "        '''\n",
    "        #preparing final data with aggregated values\n",
    "        \n",
    "        xfeat=torch.cat([x1m,x2m,x3m,x4m, x1s,x2s,x3s,x4s], axis=0)\n",
    "        xfeat=torch.where(torch.isnan(xfeat),torch.tensor(0.0, dtype=torch.float32),xfeat)\n",
    "        \n",
    "        \n",
    "        return xfeat\n",
    "    \n",
    "feature_converter=FeatureGen()"
   ]
  },
  {
   "cell_type": "code",
   "execution_count": 31,
   "id": "e7148467",
   "metadata": {
    "execution": {
     "iopub.execute_input": "2023-06-08T17:09:14.000582Z",
     "iopub.status.busy": "2023-06-08T17:09:13.999510Z",
     "iopub.status.idle": "2023-06-08T17:09:14.006719Z",
     "shell.execute_reply": "2023-06-08T17:09:14.005299Z"
    },
    "papermill": {
     "duration": 0.028661,
     "end_time": "2023-06-08T17:09:14.009022",
     "exception": false,
     "start_time": "2023-06-08T17:09:13.980361",
     "status": "completed"
    },
    "tags": []
   },
   "outputs": [],
   "source": [
    "ROWS_PER_FRAME = 543\n",
    "#we are creating the training data\n",
    "def load_relevant_data_subset(pq_path):\n",
    "    #extracting necessary data and reshaping\n",
    "    data_columns=['x', 'y', 'z']\n",
    "    data=pd.read_parquet(pq_path,columns=data_columns)\n",
    "    n_frames=int(len(data)/ROWS_PER_FRAME)\n",
    "    data=data.values.reshape(n_frames,ROWS_PER_FRAME,len(data_columns))\n",
    "    return data.astype(np.float32)"
   ]
  },
  {
   "cell_type": "code",
   "execution_count": 32,
   "id": "f48a973d",
   "metadata": {
    "execution": {
     "iopub.execute_input": "2023-06-08T17:09:14.043900Z",
     "iopub.status.busy": "2023-06-08T17:09:14.043468Z",
     "iopub.status.idle": "2023-06-08T17:10:30.600688Z",
     "shell.execute_reply": "2023-06-08T17:10:30.599357Z"
    },
    "papermill": {
     "duration": 76.577216,
     "end_time": "2023-06-08T17:10:30.602919",
     "exception": false,
     "start_time": "2023-06-08T17:09:14.025703",
     "status": "completed"
    },
    "tags": []
   },
   "outputs": [
    {
     "name": "stderr",
     "output_type": "stream",
     "text": [
      "100%|█████████▉| 3712/3713 [01:16<00:00, 48.50it/s]\n"
     ]
    }
   ],
   "source": [
    "#the preparation of data to be fed into our model\n",
    "#the first task to be accomplished\n",
    "import multiprocessing as mp\n",
    "\n",
    "#for every row\n",
    "def convert_row(row):\n",
    "    x = load_relevant_data_subset(os.path.join(\"/kaggle/input/asl-signs\", row.path))\n",
    "    x = feature_converter(torch.tensor(x)).cpu().numpy()\n",
    "    return x,row.label\n",
    "\n",
    "def convert_and_save_data():\n",
    "    #labelling each sign with a unique number\n",
    "    valid['label']=valid['sign'].map(label_map)\n",
    "   \n",
    "    #data and label holders\n",
    "    npdata=np.zeros((valid.shape[0], 528))\n",
    "    nplabels=np.zeros(valid.shape[0])\n",
    "    \n",
    "    for i,j in zip(range(valid.shape[0]),tqdm(range(valid.shape[0]))):\n",
    "       \n",
    "        npdata[i,:],nplabels[i]=convert_row(valid.iloc[i,:])\n",
    "    np.save(\"feature_data.npy\",npdata)\n",
    "    np.save(\"feature_labels.npy\",nplabels)\n",
    "    \n",
    "#to convert our data to a format that can be fed to our model\n",
    "convert_and_save_data()"
   ]
  },
  {
   "cell_type": "code",
   "execution_count": 33,
   "id": "f59cefbf",
   "metadata": {
    "execution": {
     "iopub.execute_input": "2023-06-08T17:10:30.709683Z",
     "iopub.status.busy": "2023-06-08T17:10:30.709295Z",
     "iopub.status.idle": "2023-06-08T17:10:30.716921Z",
     "shell.execute_reply": "2023-06-08T17:10:30.715476Z"
    },
    "papermill": {
     "duration": 0.06406,
     "end_time": "2023-06-08T17:10:30.719651",
     "exception": false,
     "start_time": "2023-06-08T17:10:30.655591",
     "status": "completed"
    },
    "tags": []
   },
   "outputs": [],
   "source": [
    "validx=np.load(\"/kaggle/working/feature_data.npy\")\n",
    "validy=np.load(\"/kaggle/working/feature_labels.npy\")"
   ]
  },
  {
   "cell_type": "code",
   "execution_count": 34,
   "id": "fe190c79",
   "metadata": {
    "execution": {
     "iopub.execute_input": "2023-06-08T17:10:30.824337Z",
     "iopub.status.busy": "2023-06-08T17:10:30.824003Z",
     "iopub.status.idle": "2023-06-08T17:10:30.845320Z",
     "shell.execute_reply": "2023-06-08T17:10:30.844017Z"
    },
    "papermill": {
     "duration": 0.076265,
     "end_time": "2023-06-08T17:10:30.847696",
     "exception": false,
     "start_time": "2023-06-08T17:10:30.771431",
     "status": "completed"
    },
    "tags": []
   },
   "outputs": [],
   "source": [
    "validx=scaler.fit_transform(validx)"
   ]
  },
  {
   "cell_type": "code",
   "execution_count": 35,
   "id": "d722f2f8",
   "metadata": {
    "execution": {
     "iopub.execute_input": "2023-06-08T17:10:30.953797Z",
     "iopub.status.busy": "2023-06-08T17:10:30.953447Z",
     "iopub.status.idle": "2023-06-08T17:10:30.959687Z",
     "shell.execute_reply": "2023-06-08T17:10:30.958241Z"
    },
    "papermill": {
     "duration": 0.062092,
     "end_time": "2023-06-08T17:10:30.961866",
     "exception": false,
     "start_time": "2023-06-08T17:10:30.899774",
     "status": "completed"
    },
    "tags": []
   },
   "outputs": [
    {
     "data": {
      "text/plain": [
       "(3713, 528)"
      ]
     },
     "execution_count": 35,
     "metadata": {},
     "output_type": "execute_result"
    }
   ],
   "source": [
    "validx.shape"
   ]
  },
  {
   "cell_type": "code",
   "execution_count": 36,
   "id": "12fb0eae",
   "metadata": {
    "execution": {
     "iopub.execute_input": "2023-06-08T17:10:31.070979Z",
     "iopub.status.busy": "2023-06-08T17:10:31.070644Z",
     "iopub.status.idle": "2023-06-08T17:10:31.076055Z",
     "shell.execute_reply": "2023-06-08T17:10:31.074035Z"
    },
    "papermill": {
     "duration": 0.061234,
     "end_time": "2023-06-08T17:10:31.078348",
     "exception": false,
     "start_time": "2023-06-08T17:10:31.017114",
     "status": "completed"
    },
    "tags": []
   },
   "outputs": [],
   "source": [
    "valid_data=ASLData(validx,validy)"
   ]
  },
  {
   "cell_type": "code",
   "execution_count": 37,
   "id": "67abf29b",
   "metadata": {
    "execution": {
     "iopub.execute_input": "2023-06-08T17:10:31.183518Z",
     "iopub.status.busy": "2023-06-08T17:10:31.183211Z",
     "iopub.status.idle": "2023-06-08T17:10:31.188716Z",
     "shell.execute_reply": "2023-06-08T17:10:31.187217Z"
    },
    "papermill": {
     "duration": 0.060382,
     "end_time": "2023-06-08T17:10:31.190734",
     "exception": false,
     "start_time": "2023-06-08T17:10:31.130352",
     "status": "completed"
    },
    "tags": []
   },
   "outputs": [],
   "source": [
    "val_loader=DataLoader(valid_data,batch_size=1,num_workers=4,shuffle=True)"
   ]
  },
  {
   "cell_type": "code",
   "execution_count": 38,
   "id": "a5223ce9",
   "metadata": {
    "execution": {
     "iopub.execute_input": "2023-06-08T17:10:31.296138Z",
     "iopub.status.busy": "2023-06-08T17:10:31.295774Z",
     "iopub.status.idle": "2023-06-08T17:10:41.327731Z",
     "shell.execute_reply": "2023-06-08T17:10:41.326205Z"
    },
    "papermill": {
     "duration": 10.087851,
     "end_time": "2023-06-08T17:10:41.330234",
     "exception": false,
     "start_time": "2023-06-08T17:10:31.242383",
     "status": "completed"
    },
    "tags": []
   },
   "outputs": [],
   "source": [
    "val_correct=0\n",
    "val_total=0\n",
    "actual=[]\n",
    "predictions=[]\n",
    "for x,y in val_loader:\n",
    "    x = torch.Tensor(x).float()\n",
    "    y = torch.Tensor(y).long()\n",
    "        \n",
    "    with torch.no_grad():\n",
    "        y_pred = model(x)\n",
    "        loss = criterion(y_pred, y)\n",
    "        val_loss_sum += loss.item()\n",
    "        #print(\"Actual is:\",y)\n",
    "        actual.append(y.cpu().numpy()[0])\n",
    "        predictions.append(np.argmax(y_pred.cpu().numpy(), axis=1)[0])\n",
    "        #print(\"Predicted is:\",np.sum((np.argmax(y_pred.cpu().numpy(), axis=1))))\n",
    "        val_correct += np.sum((np.argmax(y_pred.cpu().numpy(), axis=1) == y.cpu().numpy()))\n",
    "        \n",
    "        val_total += 1\n",
    "    \n",
    "        "
   ]
  },
  {
   "cell_type": "code",
   "execution_count": 39,
   "id": "b03acf3b",
   "metadata": {
    "execution": {
     "iopub.execute_input": "2023-06-08T17:10:41.442656Z",
     "iopub.status.busy": "2023-06-08T17:10:41.441480Z",
     "iopub.status.idle": "2023-06-08T17:10:41.450007Z",
     "shell.execute_reply": "2023-06-08T17:10:41.449012Z"
    },
    "papermill": {
     "duration": 0.065693,
     "end_time": "2023-06-08T17:10:41.452435",
     "exception": false,
     "start_time": "2023-06-08T17:10:41.386742",
     "status": "completed"
    },
    "tags": []
   },
   "outputs": [
    {
     "data": {
      "text/plain": [
       "3242"
      ]
     },
     "execution_count": 39,
     "metadata": {},
     "output_type": "execute_result"
    }
   ],
   "source": [
    "val_correct"
   ]
  },
  {
   "cell_type": "code",
   "execution_count": 40,
   "id": "53baa796",
   "metadata": {
    "execution": {
     "iopub.execute_input": "2023-06-08T17:10:41.559274Z",
     "iopub.status.busy": "2023-06-08T17:10:41.558598Z",
     "iopub.status.idle": "2023-06-08T17:10:41.564354Z",
     "shell.execute_reply": "2023-06-08T17:10:41.563508Z"
    },
    "papermill": {
     "duration": 0.061437,
     "end_time": "2023-06-08T17:10:41.566309",
     "exception": false,
     "start_time": "2023-06-08T17:10:41.504872",
     "status": "completed"
    },
    "tags": []
   },
   "outputs": [
    {
     "data": {
      "text/plain": [
       "3713"
      ]
     },
     "execution_count": 40,
     "metadata": {},
     "output_type": "execute_result"
    }
   ],
   "source": [
    "val_total"
   ]
  },
  {
   "cell_type": "code",
   "execution_count": 41,
   "id": "bbf0a59d",
   "metadata": {
    "execution": {
     "iopub.execute_input": "2023-06-08T17:10:41.673669Z",
     "iopub.status.busy": "2023-06-08T17:10:41.673312Z",
     "iopub.status.idle": "2023-06-08T17:10:41.677921Z",
     "shell.execute_reply": "2023-06-08T17:10:41.676981Z"
    },
    "papermill": {
     "duration": 0.059891,
     "end_time": "2023-06-08T17:10:41.680048",
     "exception": false,
     "start_time": "2023-06-08T17:10:41.620157",
     "status": "completed"
    },
    "tags": []
   },
   "outputs": [],
   "source": [
    "predictions=np.array(predictions)"
   ]
  },
  {
   "cell_type": "code",
   "execution_count": 42,
   "id": "4f519c1a",
   "metadata": {
    "execution": {
     "iopub.execute_input": "2023-06-08T17:10:41.786402Z",
     "iopub.status.busy": "2023-06-08T17:10:41.786010Z",
     "iopub.status.idle": "2023-06-08T17:10:41.791594Z",
     "shell.execute_reply": "2023-06-08T17:10:41.790611Z"
    },
    "papermill": {
     "duration": 0.06207,
     "end_time": "2023-06-08T17:10:41.794230",
     "exception": false,
     "start_time": "2023-06-08T17:10:41.732160",
     "status": "completed"
    },
    "tags": []
   },
   "outputs": [],
   "source": [
    "actual=np.array(actual)"
   ]
  },
  {
   "cell_type": "code",
   "execution_count": 43,
   "id": "26a593d7",
   "metadata": {
    "execution": {
     "iopub.execute_input": "2023-06-08T17:10:41.900937Z",
     "iopub.status.busy": "2023-06-08T17:10:41.900484Z",
     "iopub.status.idle": "2023-06-08T17:10:41.907117Z",
     "shell.execute_reply": "2023-06-08T17:10:41.906177Z"
    },
    "papermill": {
     "duration": 0.062594,
     "end_time": "2023-06-08T17:10:41.909353",
     "exception": false,
     "start_time": "2023-06-08T17:10:41.846759",
     "status": "completed"
    },
    "tags": []
   },
   "outputs": [
    {
     "data": {
      "text/plain": [
       "array([ True,  True,  True, ...,  True,  True, False])"
      ]
     },
     "execution_count": 43,
     "metadata": {},
     "output_type": "execute_result"
    }
   ],
   "source": [
    "predictions==actual"
   ]
  },
  {
   "cell_type": "code",
   "execution_count": 44,
   "id": "cd3c7c54",
   "metadata": {
    "execution": {
     "iopub.execute_input": "2023-06-08T17:10:42.017664Z",
     "iopub.status.busy": "2023-06-08T17:10:42.017279Z",
     "iopub.status.idle": "2023-06-08T17:10:42.024318Z",
     "shell.execute_reply": "2023-06-08T17:10:42.023087Z"
    },
    "papermill": {
     "duration": 0.064138,
     "end_time": "2023-06-08T17:10:42.026372",
     "exception": false,
     "start_time": "2023-06-08T17:10:41.962234",
     "status": "completed"
    },
    "tags": []
   },
   "outputs": [
    {
     "data": {
      "text/plain": [
       "array([8, 9, 6, ..., 7, 8, 6])"
      ]
     },
     "execution_count": 44,
     "metadata": {},
     "output_type": "execute_result"
    }
   ],
   "source": [
    "predictions"
   ]
  },
  {
   "cell_type": "code",
   "execution_count": 45,
   "id": "6f278f28",
   "metadata": {
    "execution": {
     "iopub.execute_input": "2023-06-08T17:10:42.134447Z",
     "iopub.status.busy": "2023-06-08T17:10:42.133350Z",
     "iopub.status.idle": "2023-06-08T17:10:42.139947Z",
     "shell.execute_reply": "2023-06-08T17:10:42.139083Z"
    },
    "papermill": {
     "duration": 0.062789,
     "end_time": "2023-06-08T17:10:42.142282",
     "exception": false,
     "start_time": "2023-06-08T17:10:42.079493",
     "status": "completed"
    },
    "tags": []
   },
   "outputs": [
    {
     "data": {
      "text/plain": [
       "array([8, 9, 6, ..., 7, 8, 7])"
      ]
     },
     "execution_count": 45,
     "metadata": {},
     "output_type": "execute_result"
    }
   ],
   "source": [
    "actual"
   ]
  },
  {
   "cell_type": "code",
   "execution_count": null,
   "id": "cd6ca18c",
   "metadata": {
    "papermill": {
     "duration": 0.050692,
     "end_time": "2023-06-08T17:10:42.244731",
     "exception": false,
     "start_time": "2023-06-08T17:10:42.194039",
     "status": "completed"
    },
    "tags": []
   },
   "outputs": [],
   "source": []
  }
 ],
 "metadata": {
  "kernelspec": {
   "display_name": "Python 3",
   "language": "python",
   "name": "python3"
  },
  "language_info": {
   "codemirror_mode": {
    "name": "ipython",
    "version": 3
   },
   "file_extension": ".py",
   "mimetype": "text/x-python",
   "name": "python",
   "nbconvert_exporter": "python",
   "pygments_lexer": "ipython3",
   "version": "3.10.10"
  },
  "papermill": {
   "default_parameters": {},
   "duration": 162.775856,
   "end_time": "2023-06-08T17:10:43.820060",
   "environment_variables": {},
   "exception": null,
   "input_path": "__notebook__.ipynb",
   "output_path": "__notebook__.ipynb",
   "parameters": {},
   "start_time": "2023-06-08T17:08:01.044204",
   "version": "2.4.0"
  }
 },
 "nbformat": 4,
 "nbformat_minor": 5
}
